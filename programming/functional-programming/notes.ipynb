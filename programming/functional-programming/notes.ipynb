{
 "cells": [
  {
   "cell_type": "markdown",
   "id": "3f6f0d8b-8468-42bf-89e5-2c3b6e40b71d",
   "metadata": {},
   "source": [
    "# Functional Programming"
   ]
  },
  {
   "cell_type": "markdown",
   "id": "ff13c7f7-969b-4783-bfd5-f73e0481e2c7",
   "metadata": {},
   "source": [
    "## Pure Function\n",
    "\n",
    "- No side effect\n",
    "- Easy to test"
   ]
  },
  {
   "cell_type": "markdown",
   "id": "b8658878-6860-47e1-9bd7-a34f1a90eef6",
   "metadata": {},
   "source": [
    "## No Loop\n",
    "\n",
    "- Avoid looping since less readable\n",
    "- Use map, reduce, fold"
   ]
  },
  {
   "cell_type": "markdown",
   "id": "b04f1836-80a5-4e0f-a432-5c492e20ec3a",
   "metadata": {},
   "source": [
    "## Example"
   ]
  },
  {
   "cell_type": "markdown",
   "id": "ec420074-6885-4ba0-94a0-0da8cd0010fb",
   "metadata": {},
   "source": [
    "### Ex1. Three cars race"
   ]
  },
  {
   "cell_type": "code",
   "execution_count": 4,
   "id": "1cf17738-768c-4ca6-8ff6-2cfdc1e6ef40",
   "metadata": {
    "tags": []
   },
   "outputs": [],
   "source": [
    "from collections import defaultdict\n",
    "from random import randint"
   ]
  },
  {
   "cell_type": "code",
   "execution_count": 12,
   "id": "c5399fc9-1018-49e9-a5ae-7e99362e6ec5",
   "metadata": {
    "tags": []
   },
   "outputs": [
    {
     "name": "stdout",
     "output_type": "stream",
     "text": [
      "==== ROUND 1 ====\n",
      "--\n",
      "-\n",
      "-\n",
      "==== ROUND 2 ====\n",
      "-\n",
      "--\n",
      "-\n",
      "==== ROUND 3 ====\n",
      "--\n",
      "--\n",
      "-\n",
      "==== ROUND 4 ====\n",
      "--\n",
      "--\n",
      "-\n",
      "==== ROUND 5 ====\n",
      "-\n",
      "--\n",
      "-\n"
     ]
    }
   ],
   "source": [
    "cars = [0, 0, 0]\n",
    "for t in range(1, 6):\n",
    "    print(f\"==== ROUND {t} ====\")\n",
    "    for car in cars:\n",
    "        car += randint(0, 1)\n",
    "        print(\"-\" * (car + 1))\n",
    "    "
   ]
  },
  {
   "cell_type": "markdown",
   "id": "77a1fb62-7eb9-43f5-8aaf-7f3d430642ab",
   "metadata": {},
   "source": [
    "- construct functions first\n",
    "    - move cars\n",
    "    - output positions\n",
    "    - racing"
   ]
  },
  {
   "cell_type": "code",
   "execution_count": 24,
   "id": "835d65ef-faa1-4d1c-b581-69ef379dcb87",
   "metadata": {
    "tags": []
   },
   "outputs": [],
   "source": [
    "# functional programming\n",
    "\n",
    "def move_car(car_position):\n",
    "    return car_position + randint(0, 1)\n",
    "\n",
    "def output_car(car_position):\n",
    "    return \"-\" * (car_position + 1)\n",
    "\n",
    "def run_step_of_race(state):\n",
    "    return {\n",
    "        'time': state['time'] - 1,\n",
    "        'car_positions': map(move_car, state['car_positions'])\n",
    "    }\n",
    "\n",
    "def draw(state):\n",
    "    print(f'''==== ROUND {5 - state['time']} ====''')\n",
    "    print('\\n'.join(map(output_car, state['car_positions'])))\n",
    "    \n",
    "    \n",
    "def race(state):\n",
    "    draw(state)\n",
    "    if state['time']:\n",
    "        race(run_step_of_race(state))"
   ]
  },
  {
   "cell_type": "code",
   "execution_count": 25,
   "id": "afcc9a49-f8a6-4bcd-b722-c5de96d3c21d",
   "metadata": {
    "tags": []
   },
   "outputs": [],
   "source": [
    "init_state = {\n",
    "    'time': 5,\n",
    "    'car_positions': [0, 0, 0]\n",
    "}"
   ]
  },
  {
   "cell_type": "code",
   "execution_count": 26,
   "id": "96497611-1440-487d-b226-a1c2fc8b09dc",
   "metadata": {
    "tags": []
   },
   "outputs": [
    {
     "name": "stdout",
     "output_type": "stream",
     "text": [
      "==== ROUND 0 ====\n",
      "-\n",
      "-\n",
      "-\n",
      "==== ROUND 1 ====\n",
      "-\n",
      "--\n",
      "--\n",
      "==== ROUND 2 ====\n",
      "\n",
      "==== ROUND 3 ====\n",
      "\n",
      "==== ROUND 4 ====\n",
      "\n",
      "==== ROUND 5 ====\n",
      "\n"
     ]
    }
   ],
   "source": [
    "race(init_state)"
   ]
  },
  {
   "cell_type": "code",
   "execution_count": 19,
   "id": "aafb29e0-bdc8-4b25-8fca-ac8cafb79d70",
   "metadata": {
    "tags": []
   },
   "outputs": [
    {
     "name": "stdout",
     "output_type": "stream",
     "text": [
      "-\n",
      "--\n",
      "--\n"
     ]
    }
   ],
   "source": [
    "output_positions(run_step_of_race(init_state))"
   ]
  },
  {
   "cell_type": "code",
   "execution_count": 27,
   "id": "7e1a0174-52fc-40ad-9aa5-bb0cde3b7c9e",
   "metadata": {
    "tags": []
   },
   "outputs": [],
   "source": [
    "def print_num(n, max_num):\n",
    "    \n",
    "    if n == max_num:\n",
    "        return \n",
    "    \n",
    "    print(n)\n",
    "    print_num(n+1, max_num)\n",
    "    "
   ]
  },
  {
   "cell_type": "code",
   "execution_count": 28,
   "id": "f062897c-0a1e-4e28-8038-df0f157a4555",
   "metadata": {},
   "outputs": [
    {
     "name": "stdout",
     "output_type": "stream",
     "text": [
      "0\n",
      "1\n",
      "2\n",
      "3\n",
      "4\n",
      "5\n",
      "6\n",
      "7\n",
      "8\n",
      "9\n"
     ]
    }
   ],
   "source": [
    "print_num(0, 10)"
   ]
  },
  {
   "cell_type": "code",
   "execution_count": null,
   "id": "8187ffa8-52b7-4e85-b03e-432c98d13bcd",
   "metadata": {},
   "outputs": [],
   "source": []
  }
 ],
 "metadata": {
  "kernelspec": {
   "display_name": "Python 3 (ipykernel)",
   "language": "python",
   "name": "python3"
  },
  "language_info": {
   "codemirror_mode": {
    "name": "ipython",
    "version": 3
   },
   "file_extension": ".py",
   "mimetype": "text/x-python",
   "name": "python",
   "nbconvert_exporter": "python",
   "pygments_lexer": "ipython3",
   "version": "3.9.5"
  }
 },
 "nbformat": 4,
 "nbformat_minor": 5
}
